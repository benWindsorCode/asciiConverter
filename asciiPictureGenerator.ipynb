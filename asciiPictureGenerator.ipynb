{
 "cells": [
  {
   "cell_type": "markdown",
   "metadata": {},
   "source": [
    "# Ascii Image Converter\n",
    "In this notebook we create a simple python script to convert an image into 'ascii art', which in this case means we represent the image as '.' and ' ' depending on if the pixel is on average dark or not."
   ]
  },
  {
   "cell_type": "code",
   "execution_count": 14,
   "metadata": {},
   "outputs": [],
   "source": [
    "import imageio\n",
    "import numpy as np"
   ]
  },
  {
   "cell_type": "markdown",
   "metadata": {},
   "source": [
    "We first write a function to convert each pixel in a row to black or white depending on if the mean of the pixels is greater than half of the $0-255$ range. The file will be read by imageio as an array where each row is the row of pixels, and each row is itself an array of the $[R,G,B]$ values. So its in effect a 3D array, but better to think of as a 2D array where each point is a single pixel."
   ]
  },
  {
   "cell_type": "code",
   "execution_count": 15,
   "metadata": {},
   "outputs": [],
   "source": [
    "def convertRowToBW(row):\n",
    "    newRow=[]\n",
    "    for pixel in row:\n",
    "        avg=(int(pixel[0])+int(pixel[1])+int(pixel[2]))/3\n",
    "        if avg>125:\n",
    "            newRow.append([255,255,255])\n",
    "        else:\n",
    "            newRow.append([0,0,0])\n",
    "    return newRow"
   ]
  },
  {
   "cell_type": "markdown",
   "metadata": {},
   "source": [
    "Next we write a function to apply this row operation to the whole image."
   ]
  },
  {
   "cell_type": "code",
   "execution_count": 16,
   "metadata": {},
   "outputs": [],
   "source": [
    "def convertFileToBW(file):\n",
    "    newFile=[]\n",
    "    for row in file:\n",
    "        newFile.append(convertRowToBW(row))\n",
    "    return np.array(newFile).astype('uint8')"
   ]
  },
  {
   "cell_type": "markdown",
   "metadata": {},
   "source": [
    "Given the above output, we now need to take this a row of black or white pixels and convert it into a string of '.' and ' '"
   ]
  },
  {
   "cell_type": "code",
   "execution_count": 17,
   "metadata": {},
   "outputs": [],
   "source": [
    "def convertTextRow(row):\n",
    "    newRow=\"\"\n",
    "    for pixel in row:\n",
    "        if pixel[0]==0:\n",
    "            newRow=newRow+\".\"\n",
    "        else:\n",
    "            newRow=newRow+\" \"\n",
    "    return newRow"
   ]
  },
  {
   "cell_type": "markdown",
   "metadata": {},
   "source": [
    "As above, we also write a function to take this row operation and apply it to a whole black and white file. "
   ]
  },
  {
   "cell_type": "code",
   "execution_count": 18,
   "metadata": {},
   "outputs": [],
   "source": [
    "def convertTextFile(blackAndWhiteFile):\n",
    "    newText = \"\"\n",
    "    for row in blackAndWhiteFile:\n",
    "        newText=newText+convertTextRow(row)+'\\n'\n",
    "    return newText"
   ]
  },
  {
   "cell_type": "markdown",
   "metadata": {},
   "source": [
    "Finally we bring these file operations together into one function which we can feed a file name to. We do this by simply first applying our black and white converstion function, then applying our text conversion function, and saving the output to a text file. We also save the intermediary step of the black and white file to allow comparison."
   ]
  },
  {
   "cell_type": "code",
   "execution_count": 24,
   "metadata": {},
   "outputs": [],
   "source": [
    "def convertFile(fileName):\n",
    "    file=imageio.imread(fileName)\n",
    "    BWFile=convertFileToBW(file)\n",
    "    imageio.imwrite('BW'+fileName, BWFile)\n",
    "    strippedName=fileName.split('.')[0]\n",
    "    textFile=open('text'+strippedName+'.txt', 'wb')\n",
    "    textFile.write(str.encode(convertTextFile(BWFile)))\n",
    "    textFile.close()"
   ]
  },
  {
   "cell_type": "code",
   "execution_count": 27,
   "metadata": {},
   "outputs": [],
   "source": [
    "convertFile(\"ben.jpeg\")"
   ]
  },
  {
   "cell_type": "markdown",
   "metadata": {},
   "source": [
    "<table><tr><td><img src=\"ben.jpeg\"></td><td><img src=\"BWben.jpeg\"></td></tr></table>"
   ]
  },
  {
   "cell_type": "markdown",
   "metadata": {},
   "source": [
    "And the text ouput: [Text Output](textben.txt)"
   ]
  }
 ],
 "metadata": {
  "kernelspec": {
   "display_name": "Python 3",
   "language": "python",
   "name": "python3"
  },
  "language_info": {
   "codemirror_mode": {
    "name": "ipython",
    "version": 3
   },
   "file_extension": ".py",
   "mimetype": "text/x-python",
   "name": "python",
   "nbconvert_exporter": "python",
   "pygments_lexer": "ipython3",
   "version": "3.7.1"
  }
 },
 "nbformat": 4,
 "nbformat_minor": 2
}
